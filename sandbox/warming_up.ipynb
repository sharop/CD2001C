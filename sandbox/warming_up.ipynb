{
  "nbformat": 4,
  "nbformat_minor": 0,
  "metadata": {
    "colab": {
      "provenance": [],
      "authorship_tag": "ABX9TyMCGPwJAPD0QKHM/cK1a0eB",
      "include_colab_link": true
    },
    "kernelspec": {
      "name": "python3",
      "display_name": "Python 3"
    },
    "language_info": {
      "name": "python"
    }
  },
  "cells": [
    {
      "cell_type": "markdown",
      "metadata": {
        "id": "view-in-github",
        "colab_type": "text"
      },
      "source": [
        "<a href=\"https://colab.research.google.com/github/sharop/CD2001C/blob/main/sandbox/warming_up.ipynb\" target=\"_parent\"><img src=\"https://colab.research.google.com/assets/colab-badge.svg\" alt=\"Open In Colab\"/></a>"
      ]
    },
    {
      "cell_type": "markdown",
      "source": [
        "\n",
        "# Explorando SQLite y Python mediante Golaboratory\n",
        "---\n",
        "Este notebook nos ayudara a:\n",
        "* familiarizarnos con la conexion de SQLite y Python.\n",
        "* Cosas escenciales para la clase.\n",
        "* Caja de arena.\n",
        "\n",
        "\n"
      ],
      "metadata": {
        "id": "EG7r9MDZ4RTb"
      }
    },
    {
      "cell_type": "code",
      "execution_count": null,
      "metadata": {
        "id": "uKMC1oDp4M9d"
      },
      "outputs": [],
      "source": []
    }
  ]
}