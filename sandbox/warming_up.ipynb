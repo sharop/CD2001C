{
  "nbformat": 4,
  "nbformat_minor": 0,
  "metadata": {
    "colab": {
      "provenance": [],
      "authorship_tag": "ABX9TyPbtv5DErGDbiUrEhtLbFiH",
      "include_colab_link": true
    },
    "kernelspec": {
      "name": "python3",
      "display_name": "Python 3"
    },
    "language_info": {
      "name": "python"
    }
  },
  "cells": [
    {
      "cell_type": "markdown",
      "metadata": {
        "id": "view-in-github",
        "colab_type": "text"
      },
      "source": [
        "<a href=\"https://colab.research.google.com/github/sharop/CD2001C/blob/main/sandbox/warming_up.ipynb\" target=\"_parent\"><img src=\"https://colab.research.google.com/assets/colab-badge.svg\" alt=\"Open In Colab\"/></a>"
      ]
    },
    {
      "cell_type": "markdown",
      "source": [
        "\n",
        "# Explorando SQLite y Python mediante Golaboratory\n",
        "---\n",
        "Este notebook nos ayudara a:\n",
        "* Cosas escenciales para la clase.\n",
        "* Familiarizarse con la conexion de SQLite, Notebook y Python.\n",
        "* Caja de arena.\n",
        "\n",
        "\n"
      ],
      "metadata": {
        "id": "EG7r9MDZ4RTb"
      }
    },
    {
      "cell_type": "markdown",
      "source": [
        "#### Conexión a Google Drive"
      ],
      "metadata": {
        "id": "WPAdLNSc8Xmz"
      }
    },
    {
      "cell_type": "code",
      "execution_count": 1,
      "metadata": {
        "colab": {
          "base_uri": "https://localhost:8080/"
        },
        "id": "uKMC1oDp4M9d",
        "outputId": "b572c627-ee21-4864-b7f7-94f10352ce1c"
      },
      "outputs": [
        {
          "output_type": "stream",
          "name": "stdout",
          "text": [
            "Mounted at /content/drive\n"
          ]
        }
      ],
      "source": [
        "\n",
        "from google.colab import drive\n",
        "drive.mount('/content/drive')\n"
      ]
    },
    {
      "cell_type": "code",
      "source": [
        "%load_ext sql"
      ],
      "metadata": {
        "id": "ngbQ2s9mAhWa"
      },
      "execution_count": 19,
      "outputs": []
    },
    {
      "cell_type": "code",
      "source": [
        "%%sql\n",
        "sqlite:////content/drive/MyDrive/my_db/my_db.db"
      ],
      "metadata": {
        "id": "1ynlAEdeAkZ0"
      },
      "execution_count": 25,
      "outputs": []
    },
    {
      "cell_type": "code",
      "source": [
        "%%sql\n",
        "SELECT name FROM sqlite_master WHERE type = 'table'"
      ],
      "metadata": {
        "colab": {
          "base_uri": "https://localhost:8080/",
          "height": 140
        },
        "id": "PjwAWz_KAw4d",
        "outputId": "5f7e9459-427d-4976-c2e3-4847a7dcfd2b"
      },
      "execution_count": 26,
      "outputs": [
        {
          "output_type": "stream",
          "name": "stdout",
          "text": [
            " * sqlite:////content/drive/MyDrive/my_db/my_db.db\n",
            "Done.\n"
          ]
        },
        {
          "output_type": "execute_result",
          "data": {
            "text/plain": [
              "[('category',), ('subcategory',), ('student',)]"
            ],
            "text/html": [
              "<table>\n",
              "    <thead>\n",
              "        <tr>\n",
              "            <th>name</th>\n",
              "        </tr>\n",
              "    </thead>\n",
              "    <tbody>\n",
              "        <tr>\n",
              "            <td>category</td>\n",
              "        </tr>\n",
              "        <tr>\n",
              "            <td>subcategory</td>\n",
              "        </tr>\n",
              "        <tr>\n",
              "            <td>student</td>\n",
              "        </tr>\n",
              "    </tbody>\n",
              "</table>"
            ]
          },
          "metadata": {},
          "execution_count": 26
        }
      ]
    },
    {
      "cell_type": "code",
      "source": [
        "%%sql\n",
        "SELECT * FROM student"
      ],
      "metadata": {
        "colab": {
          "base_uri": "https://localhost:8080/",
          "height": 824
        },
        "id": "dkK9qEXQBDck",
        "outputId": "ac2fe8cf-1ba4-4ad8-c330-fc8df6f1a442"
      },
      "execution_count": 27,
      "outputs": [
        {
          "output_type": "stream",
          "name": "stdout",
          "text": [
            " * sqlite:////content/drive/MyDrive/my_db/my_db.db\n",
            "Done.\n"
          ]
        },
        {
          "output_type": "execute_result",
          "data": {
            "text/plain": [
              "[(1, 'John Deo', 'Four', 75, 'female'),\n",
              " (2, 'Max Ruin', 'Three', 85, 'male'),\n",
              " (3, 'Arnold', 'Three', 55, 'male'),\n",
              " (4, 'Krish Star', 'Four', 60, 'female'),\n",
              " (5, 'John Mike', 'Four', 60, 'female'),\n",
              " (6, 'Alex John', 'Four', 55, 'male'),\n",
              " (7, 'My John Rob', 'Five', 78, 'male'),\n",
              " (8, 'Asruid', 'Five', 85, 'male'),\n",
              " (9, 'Tes Qry', 'Six', 78, 'male'),\n",
              " (10, 'Big John', 'Four', 55, 'female'),\n",
              " (11, 'Ronald', 'Six', 89, 'female'),\n",
              " (12, 'Recky', 'Six', 94, 'female'),\n",
              " (13, 'Kty', 'Seven', 88, 'female'),\n",
              " (14, 'Bigy', 'Seven', 88, 'female'),\n",
              " (15, 'Tade Row', 'Four', 88, 'male'),\n",
              " (16, 'Gimmy', 'Four', 88, 'male'),\n",
              " (17, 'Tumyu', 'Six', 54, 'male'),\n",
              " (18, 'Honny', 'Five', 75, 'male'),\n",
              " (19, 'Tinny', 'Nine', 18, 'male'),\n",
              " (20, 'Jackly', 'Nine', 65, 'female'),\n",
              " (21, 'Babby John', 'Four', 69, 'female'),\n",
              " (22, 'Reggid', 'Seven', 55, 'female'),\n",
              " (23, 'Herod', 'Eight', 79, 'male'),\n",
              " (24, 'Tiddy Now', 'Seven', 78, 'male'),\n",
              " (25, 'Giff Tow', 'Seven', 88, 'male'),\n",
              " (26, 'Crelea', 'Seven', 79, 'male'),\n",
              " (27, 'Big Nose', 'Three', 81, 'female'),\n",
              " (28, 'Rojj Base', 'Seven', 86, 'female'),\n",
              " (29, 'Tess Played', 'Seven', 55, 'male'),\n",
              " (30, 'Reppy Red', 'Six', 79, 'female'),\n",
              " (31, 'Marry Toeey', 'Four', 88, 'male'),\n",
              " (32, 'Binn Rott', 'Seven', 90, 'female'),\n",
              " (33, 'Kenn Rein', 'Six', 96, 'female'),\n",
              " (34, 'Gain Toe', 'Seven', 69, 'male'),\n",
              " (35, 'Rows Noump', 'Six', 88, 'female')]"
            ],
            "text/html": [
              "<table>\n",
              "    <thead>\n",
              "        <tr>\n",
              "            <th>id</th>\n",
              "            <th>name</th>\n",
              "            <th>class</th>\n",
              "            <th>mark</th>\n",
              "            <th>sex</th>\n",
              "        </tr>\n",
              "    </thead>\n",
              "    <tbody>\n",
              "        <tr>\n",
              "            <td>1</td>\n",
              "            <td>John Deo</td>\n",
              "            <td>Four</td>\n",
              "            <td>75</td>\n",
              "            <td>female</td>\n",
              "        </tr>\n",
              "        <tr>\n",
              "            <td>2</td>\n",
              "            <td>Max Ruin</td>\n",
              "            <td>Three</td>\n",
              "            <td>85</td>\n",
              "            <td>male</td>\n",
              "        </tr>\n",
              "        <tr>\n",
              "            <td>3</td>\n",
              "            <td>Arnold</td>\n",
              "            <td>Three</td>\n",
              "            <td>55</td>\n",
              "            <td>male</td>\n",
              "        </tr>\n",
              "        <tr>\n",
              "            <td>4</td>\n",
              "            <td>Krish Star</td>\n",
              "            <td>Four</td>\n",
              "            <td>60</td>\n",
              "            <td>female</td>\n",
              "        </tr>\n",
              "        <tr>\n",
              "            <td>5</td>\n",
              "            <td>John Mike</td>\n",
              "            <td>Four</td>\n",
              "            <td>60</td>\n",
              "            <td>female</td>\n",
              "        </tr>\n",
              "        <tr>\n",
              "            <td>6</td>\n",
              "            <td>Alex John</td>\n",
              "            <td>Four</td>\n",
              "            <td>55</td>\n",
              "            <td>male</td>\n",
              "        </tr>\n",
              "        <tr>\n",
              "            <td>7</td>\n",
              "            <td>My John Rob</td>\n",
              "            <td>Five</td>\n",
              "            <td>78</td>\n",
              "            <td>male</td>\n",
              "        </tr>\n",
              "        <tr>\n",
              "            <td>8</td>\n",
              "            <td>Asruid</td>\n",
              "            <td>Five</td>\n",
              "            <td>85</td>\n",
              "            <td>male</td>\n",
              "        </tr>\n",
              "        <tr>\n",
              "            <td>9</td>\n",
              "            <td>Tes Qry</td>\n",
              "            <td>Six</td>\n",
              "            <td>78</td>\n",
              "            <td>male</td>\n",
              "        </tr>\n",
              "        <tr>\n",
              "            <td>10</td>\n",
              "            <td>Big John</td>\n",
              "            <td>Four</td>\n",
              "            <td>55</td>\n",
              "            <td>female</td>\n",
              "        </tr>\n",
              "        <tr>\n",
              "            <td>11</td>\n",
              "            <td>Ronald</td>\n",
              "            <td>Six</td>\n",
              "            <td>89</td>\n",
              "            <td>female</td>\n",
              "        </tr>\n",
              "        <tr>\n",
              "            <td>12</td>\n",
              "            <td>Recky</td>\n",
              "            <td>Six</td>\n",
              "            <td>94</td>\n",
              "            <td>female</td>\n",
              "        </tr>\n",
              "        <tr>\n",
              "            <td>13</td>\n",
              "            <td>Kty</td>\n",
              "            <td>Seven</td>\n",
              "            <td>88</td>\n",
              "            <td>female</td>\n",
              "        </tr>\n",
              "        <tr>\n",
              "            <td>14</td>\n",
              "            <td>Bigy</td>\n",
              "            <td>Seven</td>\n",
              "            <td>88</td>\n",
              "            <td>female</td>\n",
              "        </tr>\n",
              "        <tr>\n",
              "            <td>15</td>\n",
              "            <td>Tade Row</td>\n",
              "            <td>Four</td>\n",
              "            <td>88</td>\n",
              "            <td>male</td>\n",
              "        </tr>\n",
              "        <tr>\n",
              "            <td>16</td>\n",
              "            <td>Gimmy</td>\n",
              "            <td>Four</td>\n",
              "            <td>88</td>\n",
              "            <td>male</td>\n",
              "        </tr>\n",
              "        <tr>\n",
              "            <td>17</td>\n",
              "            <td>Tumyu</td>\n",
              "            <td>Six</td>\n",
              "            <td>54</td>\n",
              "            <td>male</td>\n",
              "        </tr>\n",
              "        <tr>\n",
              "            <td>18</td>\n",
              "            <td>Honny</td>\n",
              "            <td>Five</td>\n",
              "            <td>75</td>\n",
              "            <td>male</td>\n",
              "        </tr>\n",
              "        <tr>\n",
              "            <td>19</td>\n",
              "            <td>Tinny</td>\n",
              "            <td>Nine</td>\n",
              "            <td>18</td>\n",
              "            <td>male</td>\n",
              "        </tr>\n",
              "        <tr>\n",
              "            <td>20</td>\n",
              "            <td>Jackly</td>\n",
              "            <td>Nine</td>\n",
              "            <td>65</td>\n",
              "            <td>female</td>\n",
              "        </tr>\n",
              "        <tr>\n",
              "            <td>21</td>\n",
              "            <td>Babby John</td>\n",
              "            <td>Four</td>\n",
              "            <td>69</td>\n",
              "            <td>female</td>\n",
              "        </tr>\n",
              "        <tr>\n",
              "            <td>22</td>\n",
              "            <td>Reggid</td>\n",
              "            <td>Seven</td>\n",
              "            <td>55</td>\n",
              "            <td>female</td>\n",
              "        </tr>\n",
              "        <tr>\n",
              "            <td>23</td>\n",
              "            <td>Herod</td>\n",
              "            <td>Eight</td>\n",
              "            <td>79</td>\n",
              "            <td>male</td>\n",
              "        </tr>\n",
              "        <tr>\n",
              "            <td>24</td>\n",
              "            <td>Tiddy Now</td>\n",
              "            <td>Seven</td>\n",
              "            <td>78</td>\n",
              "            <td>male</td>\n",
              "        </tr>\n",
              "        <tr>\n",
              "            <td>25</td>\n",
              "            <td>Giff Tow</td>\n",
              "            <td>Seven</td>\n",
              "            <td>88</td>\n",
              "            <td>male</td>\n",
              "        </tr>\n",
              "        <tr>\n",
              "            <td>26</td>\n",
              "            <td>Crelea</td>\n",
              "            <td>Seven</td>\n",
              "            <td>79</td>\n",
              "            <td>male</td>\n",
              "        </tr>\n",
              "        <tr>\n",
              "            <td>27</td>\n",
              "            <td>Big Nose</td>\n",
              "            <td>Three</td>\n",
              "            <td>81</td>\n",
              "            <td>female</td>\n",
              "        </tr>\n",
              "        <tr>\n",
              "            <td>28</td>\n",
              "            <td>Rojj Base</td>\n",
              "            <td>Seven</td>\n",
              "            <td>86</td>\n",
              "            <td>female</td>\n",
              "        </tr>\n",
              "        <tr>\n",
              "            <td>29</td>\n",
              "            <td>Tess Played</td>\n",
              "            <td>Seven</td>\n",
              "            <td>55</td>\n",
              "            <td>male</td>\n",
              "        </tr>\n",
              "        <tr>\n",
              "            <td>30</td>\n",
              "            <td>Reppy Red</td>\n",
              "            <td>Six</td>\n",
              "            <td>79</td>\n",
              "            <td>female</td>\n",
              "        </tr>\n",
              "        <tr>\n",
              "            <td>31</td>\n",
              "            <td>Marry Toeey</td>\n",
              "            <td>Four</td>\n",
              "            <td>88</td>\n",
              "            <td>male</td>\n",
              "        </tr>\n",
              "        <tr>\n",
              "            <td>32</td>\n",
              "            <td>Binn Rott</td>\n",
              "            <td>Seven</td>\n",
              "            <td>90</td>\n",
              "            <td>female</td>\n",
              "        </tr>\n",
              "        <tr>\n",
              "            <td>33</td>\n",
              "            <td>Kenn Rein</td>\n",
              "            <td>Six</td>\n",
              "            <td>96</td>\n",
              "            <td>female</td>\n",
              "        </tr>\n",
              "        <tr>\n",
              "            <td>34</td>\n",
              "            <td>Gain Toe</td>\n",
              "            <td>Seven</td>\n",
              "            <td>69</td>\n",
              "            <td>male</td>\n",
              "        </tr>\n",
              "        <tr>\n",
              "            <td>35</td>\n",
              "            <td>Rows Noump</td>\n",
              "            <td>Six</td>\n",
              "            <td>88</td>\n",
              "            <td>female</td>\n",
              "        </tr>\n",
              "    </tbody>\n",
              "</table>"
            ]
          },
          "metadata": {},
          "execution_count": 27
        }
      ]
    },
    {
      "cell_type": "markdown",
      "source": [
        "# Introducción a SQL\n",
        "<details>\n",
        "  <summary>Cheat Sheet 1</summary>\n",
        "  \n",
        "![Cheat Sheet 1](https://learnsql.com/blog/sql-basics-cheat-sheet/sql-basics-cheat-sheet-a4-page-1.png)\n",
        "</details>\n",
        "\n",
        "<details>\n",
        "  <summary>Cheat Sheet 2</summary>\n",
        "\n",
        "![Cheat Sheet 2](https://learnsql.com/blog/sql-basics-cheat-sheet/sql-basics-cheat-sheet-a4-page-2.png)\n",
        "</details>"
      ],
      "metadata": {
        "id": "pKafN994CRg6"
      }
    },
    {
      "cell_type": "code",
      "source": [],
      "metadata": {
        "id": "Xb1MjMZRBDiq"
      },
      "execution_count": 25,
      "outputs": []
    },
    {
      "cell_type": "code",
      "source": [],
      "metadata": {
        "id": "VsRPnbYjBDlR"
      },
      "execution_count": 25,
      "outputs": []
    },
    {
      "cell_type": "code",
      "source": [],
      "metadata": {
        "id": "mj1ac4ygBDoY"
      },
      "execution_count": 25,
      "outputs": []
    },
    {
      "cell_type": "code",
      "source": [],
      "metadata": {
        "id": "-8vt6XIPBDqd"
      },
      "execution_count": null,
      "outputs": []
    },
    {
      "cell_type": "code",
      "source": [
        "from sqlalchemy import create_engine\n",
        "engine=create_engine(\"sqlite:////content/drive/MyDrive/my_db/my_db.db\")"
      ],
      "metadata": {
        "id": "HSmUfXqP9VVg"
      },
      "execution_count": 23,
      "outputs": []
    },
    {
      "cell_type": "code",
      "source": [
        "with engine.connect() as conn:\n",
        "    result = conn.execute('''SELECT name FROM sqlite_master WHERE type = 'table' ''')"
      ],
      "metadata": {
        "colab": {
          "base_uri": "https://localhost:8080/",
          "height": 453
        },
        "id": "kswUIlSQ_n5C",
        "outputId": "59fdc23e-82a2-4f36-aed1-640d24b1a80a"
      },
      "execution_count": 24,
      "outputs": [
        {
          "output_type": "error",
          "ename": "ObjectNotExecutableError",
          "evalue": "ignored",
          "traceback": [
            "\u001b[0;31m---------------------------------------------------------------------------\u001b[0m",
            "\u001b[0;31mAttributeError\u001b[0m                            Traceback (most recent call last)",
            "\u001b[0;32m/usr/local/lib/python3.10/dist-packages/sqlalchemy/engine/base.py\u001b[0m in \u001b[0;36mexecute\u001b[0;34m(self, statement, parameters, execution_options)\u001b[0m\n\u001b[1;32m   1407\u001b[0m         \u001b[0;32mtry\u001b[0m\u001b[0;34m:\u001b[0m\u001b[0;34m\u001b[0m\u001b[0;34m\u001b[0m\u001b[0m\n\u001b[0;32m-> 1408\u001b[0;31m             \u001b[0mmeth\u001b[0m \u001b[0;34m=\u001b[0m \u001b[0mstatement\u001b[0m\u001b[0;34m.\u001b[0m\u001b[0m_execute_on_connection\u001b[0m\u001b[0;34m\u001b[0m\u001b[0;34m\u001b[0m\u001b[0m\n\u001b[0m\u001b[1;32m   1409\u001b[0m         \u001b[0;32mexcept\u001b[0m \u001b[0mAttributeError\u001b[0m \u001b[0;32mas\u001b[0m \u001b[0merr\u001b[0m\u001b[0;34m:\u001b[0m\u001b[0;34m\u001b[0m\u001b[0;34m\u001b[0m\u001b[0m\n",
            "\u001b[0;31mAttributeError\u001b[0m: 'str' object has no attribute '_execute_on_connection'",
            "\nThe above exception was the direct cause of the following exception:\n",
            "\u001b[0;31mObjectNotExecutableError\u001b[0m                  Traceback (most recent call last)",
            "\u001b[0;32m<ipython-input-24-15833859994d>\u001b[0m in \u001b[0;36m<cell line: 1>\u001b[0;34m()\u001b[0m\n\u001b[1;32m      1\u001b[0m \u001b[0;32mwith\u001b[0m \u001b[0mengine\u001b[0m\u001b[0;34m.\u001b[0m\u001b[0mconnect\u001b[0m\u001b[0;34m(\u001b[0m\u001b[0;34m)\u001b[0m \u001b[0;32mas\u001b[0m \u001b[0mconn\u001b[0m\u001b[0;34m:\u001b[0m\u001b[0;34m\u001b[0m\u001b[0;34m\u001b[0m\u001b[0m\n\u001b[0;32m----> 2\u001b[0;31m     \u001b[0mresult\u001b[0m \u001b[0;34m=\u001b[0m \u001b[0mconn\u001b[0m\u001b[0;34m.\u001b[0m\u001b[0mexecute\u001b[0m\u001b[0;34m(\u001b[0m\u001b[0;34m'''SELECT name FROM sqlite_master WHERE type = 'table' '''\u001b[0m\u001b[0;34m)\u001b[0m\u001b[0;34m\u001b[0m\u001b[0;34m\u001b[0m\u001b[0m\n\u001b[0m",
            "\u001b[0;32m/usr/local/lib/python3.10/dist-packages/sqlalchemy/engine/base.py\u001b[0m in \u001b[0;36mexecute\u001b[0;34m(self, statement, parameters, execution_options)\u001b[0m\n\u001b[1;32m   1408\u001b[0m             \u001b[0mmeth\u001b[0m \u001b[0;34m=\u001b[0m \u001b[0mstatement\u001b[0m\u001b[0;34m.\u001b[0m\u001b[0m_execute_on_connection\u001b[0m\u001b[0;34m\u001b[0m\u001b[0;34m\u001b[0m\u001b[0m\n\u001b[1;32m   1409\u001b[0m         \u001b[0;32mexcept\u001b[0m \u001b[0mAttributeError\u001b[0m \u001b[0;32mas\u001b[0m \u001b[0merr\u001b[0m\u001b[0;34m:\u001b[0m\u001b[0;34m\u001b[0m\u001b[0;34m\u001b[0m\u001b[0m\n\u001b[0;32m-> 1410\u001b[0;31m             \u001b[0;32mraise\u001b[0m \u001b[0mexc\u001b[0m\u001b[0;34m.\u001b[0m\u001b[0mObjectNotExecutableError\u001b[0m\u001b[0;34m(\u001b[0m\u001b[0mstatement\u001b[0m\u001b[0;34m)\u001b[0m \u001b[0;32mfrom\u001b[0m \u001b[0merr\u001b[0m\u001b[0;34m\u001b[0m\u001b[0;34m\u001b[0m\u001b[0m\n\u001b[0m\u001b[1;32m   1411\u001b[0m         \u001b[0;32melse\u001b[0m\u001b[0;34m:\u001b[0m\u001b[0;34m\u001b[0m\u001b[0;34m\u001b[0m\u001b[0m\n\u001b[1;32m   1412\u001b[0m             return meth(\n",
            "\u001b[0;31mObjectNotExecutableError\u001b[0m: Not an executable object: \"SELECT name FROM sqlite_master WHERE type = 'table' \""
          ]
        }
      ]
    },
    {
      "cell_type": "code",
      "source": [
        "r_set=my_conn.execute('''select name from sqlite_master\n",
        "\t\twhere type = 'table' ''')\n",
        "for row in r_set:\n",
        "    print(row)"
      ],
      "metadata": {
        "colab": {
          "base_uri": "https://localhost:8080/",
          "height": 232
        },
        "id": "3GLEeTqE9kzu",
        "outputId": "ec88fcfd-b9b0-4cfa-b584-142240e44a2e"
      },
      "execution_count": 18,
      "outputs": [
        {
          "output_type": "error",
          "ename": "AttributeError",
          "evalue": "ignored",
          "traceback": [
            "\u001b[0;31m---------------------------------------------------------------------------\u001b[0m",
            "\u001b[0;31mAttributeError\u001b[0m                            Traceback (most recent call last)",
            "\u001b[0;32m<ipython-input-18-5cb37fc643fb>\u001b[0m in \u001b[0;36m<cell line: 1>\u001b[0;34m()\u001b[0m\n\u001b[0;32m----> 1\u001b[0;31m r_set=my_conn.execute('''select name from sqlite_master \n\u001b[0m\u001b[1;32m      2\u001b[0m \t\twhere type = 'table' ''')\n\u001b[1;32m      3\u001b[0m \u001b[0;32mfor\u001b[0m \u001b[0mrow\u001b[0m \u001b[0;32min\u001b[0m \u001b[0mr_set\u001b[0m\u001b[0;34m:\u001b[0m\u001b[0;34m\u001b[0m\u001b[0;34m\u001b[0m\u001b[0m\n\u001b[1;32m      4\u001b[0m     \u001b[0mprint\u001b[0m\u001b[0;34m(\u001b[0m\u001b[0mrow\u001b[0m\u001b[0;34m)\u001b[0m\u001b[0;34m\u001b[0m\u001b[0;34m\u001b[0m\u001b[0m\n",
            "\u001b[0;31mAttributeError\u001b[0m: 'Engine' object has no attribute 'execute'"
          ]
        }
      ]
    },
    {
      "cell_type": "code",
      "source": [
        "r_set=my_conn.execute('''SELECT * from student''');\n",
        "for row in r_set:\n",
        "    print(row)"
      ],
      "metadata": {
        "id": "_eIomDmD9omi"
      },
      "execution_count": null,
      "outputs": []
    },
    {
      "cell_type": "code",
      "source": [],
      "metadata": {
        "id": "ntT7xdmN9lj4"
      },
      "execution_count": null,
      "outputs": []
    }
  ]
}