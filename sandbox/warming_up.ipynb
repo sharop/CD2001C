{
  "nbformat": 4,
  "nbformat_minor": 0,
  "metadata": {
    "colab": {
      "provenance": [],
      "authorship_tag": "ABX9TyPKr+qNoGV3ArusEU45RdMR",
      "include_colab_link": true
    },
    "kernelspec": {
      "name": "python3",
      "display_name": "Python 3"
    },
    "language_info": {
      "name": "python"
    }
  },
  "cells": [
    {
      "cell_type": "markdown",
      "metadata": {
        "id": "view-in-github",
        "colab_type": "text"
      },
      "source": [
        "<a href=\"https://colab.research.google.com/github/sharop/CD2001C/blob/main/sandbox/warming_up.ipynb\" target=\"_parent\"><img src=\"https://colab.research.google.com/assets/colab-badge.svg\" alt=\"Open In Colab\"/></a>"
      ]
    },
    {
      "cell_type": "markdown",
      "source": [
        "\n",
        "# Explorando SQLite y Python mediante Golaboratory\n",
        "---\n",
        "Este notebook nos ayudara a:\n",
        "* Cosas escenciales para la clase.\n",
        "* Familiarizarse con la conexion de SQLite, Notebook y Python.\n",
        "* Caja de arena.\n",
        "\n",
        "\n"
      ],
      "metadata": {
        "id": "EG7r9MDZ4RTb"
      }
    },
    {
      "cell_type": "markdown",
      "source": [
        "#### Conexión a Google Drive"
      ],
      "metadata": {
        "id": "WPAdLNSc8Xmz"
      }
    },
    {
      "cell_type": "code",
      "execution_count": null,
      "metadata": {
        "colab": {
          "base_uri": "https://localhost:8080/"
        },
        "id": "uKMC1oDp4M9d",
        "outputId": "b572c627-ee21-4864-b7f7-94f10352ce1c"
      },
      "outputs": [
        {
          "output_type": "stream",
          "name": "stdout",
          "text": [
            "Mounted at /content/drive\n"
          ]
        }
      ],
      "source": [
        "\n",
        "from google.colab import drive\n",
        "drive.mount('/content/drive')\n"
      ]
    },
    {
      "cell_type": "code",
      "source": [
        "%load_ext sql"
      ],
      "metadata": {
        "id": "ngbQ2s9mAhWa"
      },
      "execution_count": null,
      "outputs": []
    },
    {
      "cell_type": "code",
      "source": [
        "%%sql\n",
        "sqlite:////content/drive/MyDrive/my_db/my_db.db"
      ],
      "metadata": {
        "id": "1ynlAEdeAkZ0"
      },
      "execution_count": null,
      "outputs": []
    },
    {
      "cell_type": "code",
      "source": [
        "%%sql\n",
        "SELECT name FROM sqlite_master WHERE type = 'table'"
      ],
      "metadata": {
        "colab": {
          "base_uri": "https://localhost:8080/",
          "height": 140
        },
        "id": "PjwAWz_KAw4d",
        "outputId": "5f7e9459-427d-4976-c2e3-4847a7dcfd2b"
      },
      "execution_count": null,
      "outputs": [
        {
          "output_type": "stream",
          "name": "stdout",
          "text": [
            " * sqlite:////content/drive/MyDrive/my_db/my_db.db\n",
            "Done.\n"
          ]
        },
        {
          "output_type": "execute_result",
          "data": {
            "text/plain": [
              "[('category',), ('subcategory',), ('student',)]"
            ],
            "text/html": [
              "<table>\n",
              "    <thead>\n",
              "        <tr>\n",
              "            <th>name</th>\n",
              "        </tr>\n",
              "    </thead>\n",
              "    <tbody>\n",
              "        <tr>\n",
              "            <td>category</td>\n",
              "        </tr>\n",
              "        <tr>\n",
              "            <td>subcategory</td>\n",
              "        </tr>\n",
              "        <tr>\n",
              "            <td>student</td>\n",
              "        </tr>\n",
              "    </tbody>\n",
              "</table>"
            ]
          },
          "metadata": {},
          "execution_count": 26
        }
      ]
    },
    {
      "cell_type": "code",
      "source": [
        "%%sql\n",
        "SELECT * FROM student"
      ],
      "metadata": {
        "colab": {
          "base_uri": "https://localhost:8080/",
          "height": 824
        },
        "id": "dkK9qEXQBDck",
        "outputId": "ac2fe8cf-1ba4-4ad8-c330-fc8df6f1a442"
      },
      "execution_count": null,
      "outputs": [
        {
          "output_type": "stream",
          "name": "stdout",
          "text": [
            " * sqlite:////content/drive/MyDrive/my_db/my_db.db\n",
            "Done.\n"
          ]
        },
        {
          "output_type": "execute_result",
          "data": {
            "text/plain": [
              "[(1, 'John Deo', 'Four', 75, 'female'),\n",
              " (2, 'Max Ruin', 'Three', 85, 'male'),\n",
              " (3, 'Arnold', 'Three', 55, 'male'),\n",
              " (4, 'Krish Star', 'Four', 60, 'female'),\n",
              " (5, 'John Mike', 'Four', 60, 'female'),\n",
              " (6, 'Alex John', 'Four', 55, 'male'),\n",
              " (7, 'My John Rob', 'Five', 78, 'male'),\n",
              " (8, 'Asruid', 'Five', 85, 'male'),\n",
              " (9, 'Tes Qry', 'Six', 78, 'male'),\n",
              " (10, 'Big John', 'Four', 55, 'female'),\n",
              " (11, 'Ronald', 'Six', 89, 'female'),\n",
              " (12, 'Recky', 'Six', 94, 'female'),\n",
              " (13, 'Kty', 'Seven', 88, 'female'),\n",
              " (14, 'Bigy', 'Seven', 88, 'female'),\n",
              " (15, 'Tade Row', 'Four', 88, 'male'),\n",
              " (16, 'Gimmy', 'Four', 88, 'male'),\n",
              " (17, 'Tumyu', 'Six', 54, 'male'),\n",
              " (18, 'Honny', 'Five', 75, 'male'),\n",
              " (19, 'Tinny', 'Nine', 18, 'male'),\n",
              " (20, 'Jackly', 'Nine', 65, 'female'),\n",
              " (21, 'Babby John', 'Four', 69, 'female'),\n",
              " (22, 'Reggid', 'Seven', 55, 'female'),\n",
              " (23, 'Herod', 'Eight', 79, 'male'),\n",
              " (24, 'Tiddy Now', 'Seven', 78, 'male'),\n",
              " (25, 'Giff Tow', 'Seven', 88, 'male'),\n",
              " (26, 'Crelea', 'Seven', 79, 'male'),\n",
              " (27, 'Big Nose', 'Three', 81, 'female'),\n",
              " (28, 'Rojj Base', 'Seven', 86, 'female'),\n",
              " (29, 'Tess Played', 'Seven', 55, 'male'),\n",
              " (30, 'Reppy Red', 'Six', 79, 'female'),\n",
              " (31, 'Marry Toeey', 'Four', 88, 'male'),\n",
              " (32, 'Binn Rott', 'Seven', 90, 'female'),\n",
              " (33, 'Kenn Rein', 'Six', 96, 'female'),\n",
              " (34, 'Gain Toe', 'Seven', 69, 'male'),\n",
              " (35, 'Rows Noump', 'Six', 88, 'female')]"
            ],
            "text/html": [
              "<table>\n",
              "    <thead>\n",
              "        <tr>\n",
              "            <th>id</th>\n",
              "            <th>name</th>\n",
              "            <th>class</th>\n",
              "            <th>mark</th>\n",
              "            <th>sex</th>\n",
              "        </tr>\n",
              "    </thead>\n",
              "    <tbody>\n",
              "        <tr>\n",
              "            <td>1</td>\n",
              "            <td>John Deo</td>\n",
              "            <td>Four</td>\n",
              "            <td>75</td>\n",
              "            <td>female</td>\n",
              "        </tr>\n",
              "        <tr>\n",
              "            <td>2</td>\n",
              "            <td>Max Ruin</td>\n",
              "            <td>Three</td>\n",
              "            <td>85</td>\n",
              "            <td>male</td>\n",
              "        </tr>\n",
              "        <tr>\n",
              "            <td>3</td>\n",
              "            <td>Arnold</td>\n",
              "            <td>Three</td>\n",
              "            <td>55</td>\n",
              "            <td>male</td>\n",
              "        </tr>\n",
              "        <tr>\n",
              "            <td>4</td>\n",
              "            <td>Krish Star</td>\n",
              "            <td>Four</td>\n",
              "            <td>60</td>\n",
              "            <td>female</td>\n",
              "        </tr>\n",
              "        <tr>\n",
              "            <td>5</td>\n",
              "            <td>John Mike</td>\n",
              "            <td>Four</td>\n",
              "            <td>60</td>\n",
              "            <td>female</td>\n",
              "        </tr>\n",
              "        <tr>\n",
              "            <td>6</td>\n",
              "            <td>Alex John</td>\n",
              "            <td>Four</td>\n",
              "            <td>55</td>\n",
              "            <td>male</td>\n",
              "        </tr>\n",
              "        <tr>\n",
              "            <td>7</td>\n",
              "            <td>My John Rob</td>\n",
              "            <td>Five</td>\n",
              "            <td>78</td>\n",
              "            <td>male</td>\n",
              "        </tr>\n",
              "        <tr>\n",
              "            <td>8</td>\n",
              "            <td>Asruid</td>\n",
              "            <td>Five</td>\n",
              "            <td>85</td>\n",
              "            <td>male</td>\n",
              "        </tr>\n",
              "        <tr>\n",
              "            <td>9</td>\n",
              "            <td>Tes Qry</td>\n",
              "            <td>Six</td>\n",
              "            <td>78</td>\n",
              "            <td>male</td>\n",
              "        </tr>\n",
              "        <tr>\n",
              "            <td>10</td>\n",
              "            <td>Big John</td>\n",
              "            <td>Four</td>\n",
              "            <td>55</td>\n",
              "            <td>female</td>\n",
              "        </tr>\n",
              "        <tr>\n",
              "            <td>11</td>\n",
              "            <td>Ronald</td>\n",
              "            <td>Six</td>\n",
              "            <td>89</td>\n",
              "            <td>female</td>\n",
              "        </tr>\n",
              "        <tr>\n",
              "            <td>12</td>\n",
              "            <td>Recky</td>\n",
              "            <td>Six</td>\n",
              "            <td>94</td>\n",
              "            <td>female</td>\n",
              "        </tr>\n",
              "        <tr>\n",
              "            <td>13</td>\n",
              "            <td>Kty</td>\n",
              "            <td>Seven</td>\n",
              "            <td>88</td>\n",
              "            <td>female</td>\n",
              "        </tr>\n",
              "        <tr>\n",
              "            <td>14</td>\n",
              "            <td>Bigy</td>\n",
              "            <td>Seven</td>\n",
              "            <td>88</td>\n",
              "            <td>female</td>\n",
              "        </tr>\n",
              "        <tr>\n",
              "            <td>15</td>\n",
              "            <td>Tade Row</td>\n",
              "            <td>Four</td>\n",
              "            <td>88</td>\n",
              "            <td>male</td>\n",
              "        </tr>\n",
              "        <tr>\n",
              "            <td>16</td>\n",
              "            <td>Gimmy</td>\n",
              "            <td>Four</td>\n",
              "            <td>88</td>\n",
              "            <td>male</td>\n",
              "        </tr>\n",
              "        <tr>\n",
              "            <td>17</td>\n",
              "            <td>Tumyu</td>\n",
              "            <td>Six</td>\n",
              "            <td>54</td>\n",
              "            <td>male</td>\n",
              "        </tr>\n",
              "        <tr>\n",
              "            <td>18</td>\n",
              "            <td>Honny</td>\n",
              "            <td>Five</td>\n",
              "            <td>75</td>\n",
              "            <td>male</td>\n",
              "        </tr>\n",
              "        <tr>\n",
              "            <td>19</td>\n",
              "            <td>Tinny</td>\n",
              "            <td>Nine</td>\n",
              "            <td>18</td>\n",
              "            <td>male</td>\n",
              "        </tr>\n",
              "        <tr>\n",
              "            <td>20</td>\n",
              "            <td>Jackly</td>\n",
              "            <td>Nine</td>\n",
              "            <td>65</td>\n",
              "            <td>female</td>\n",
              "        </tr>\n",
              "        <tr>\n",
              "            <td>21</td>\n",
              "            <td>Babby John</td>\n",
              "            <td>Four</td>\n",
              "            <td>69</td>\n",
              "            <td>female</td>\n",
              "        </tr>\n",
              "        <tr>\n",
              "            <td>22</td>\n",
              "            <td>Reggid</td>\n",
              "            <td>Seven</td>\n",
              "            <td>55</td>\n",
              "            <td>female</td>\n",
              "        </tr>\n",
              "        <tr>\n",
              "            <td>23</td>\n",
              "            <td>Herod</td>\n",
              "            <td>Eight</td>\n",
              "            <td>79</td>\n",
              "            <td>male</td>\n",
              "        </tr>\n",
              "        <tr>\n",
              "            <td>24</td>\n",
              "            <td>Tiddy Now</td>\n",
              "            <td>Seven</td>\n",
              "            <td>78</td>\n",
              "            <td>male</td>\n",
              "        </tr>\n",
              "        <tr>\n",
              "            <td>25</td>\n",
              "            <td>Giff Tow</td>\n",
              "            <td>Seven</td>\n",
              "            <td>88</td>\n",
              "            <td>male</td>\n",
              "        </tr>\n",
              "        <tr>\n",
              "            <td>26</td>\n",
              "            <td>Crelea</td>\n",
              "            <td>Seven</td>\n",
              "            <td>79</td>\n",
              "            <td>male</td>\n",
              "        </tr>\n",
              "        <tr>\n",
              "            <td>27</td>\n",
              "            <td>Big Nose</td>\n",
              "            <td>Three</td>\n",
              "            <td>81</td>\n",
              "            <td>female</td>\n",
              "        </tr>\n",
              "        <tr>\n",
              "            <td>28</td>\n",
              "            <td>Rojj Base</td>\n",
              "            <td>Seven</td>\n",
              "            <td>86</td>\n",
              "            <td>female</td>\n",
              "        </tr>\n",
              "        <tr>\n",
              "            <td>29</td>\n",
              "            <td>Tess Played</td>\n",
              "            <td>Seven</td>\n",
              "            <td>55</td>\n",
              "            <td>male</td>\n",
              "        </tr>\n",
              "        <tr>\n",
              "            <td>30</td>\n",
              "            <td>Reppy Red</td>\n",
              "            <td>Six</td>\n",
              "            <td>79</td>\n",
              "            <td>female</td>\n",
              "        </tr>\n",
              "        <tr>\n",
              "            <td>31</td>\n",
              "            <td>Marry Toeey</td>\n",
              "            <td>Four</td>\n",
              "            <td>88</td>\n",
              "            <td>male</td>\n",
              "        </tr>\n",
              "        <tr>\n",
              "            <td>32</td>\n",
              "            <td>Binn Rott</td>\n",
              "            <td>Seven</td>\n",
              "            <td>90</td>\n",
              "            <td>female</td>\n",
              "        </tr>\n",
              "        <tr>\n",
              "            <td>33</td>\n",
              "            <td>Kenn Rein</td>\n",
              "            <td>Six</td>\n",
              "            <td>96</td>\n",
              "            <td>female</td>\n",
              "        </tr>\n",
              "        <tr>\n",
              "            <td>34</td>\n",
              "            <td>Gain Toe</td>\n",
              "            <td>Seven</td>\n",
              "            <td>69</td>\n",
              "            <td>male</td>\n",
              "        </tr>\n",
              "        <tr>\n",
              "            <td>35</td>\n",
              "            <td>Rows Noump</td>\n",
              "            <td>Six</td>\n",
              "            <td>88</td>\n",
              "            <td>female</td>\n",
              "        </tr>\n",
              "    </tbody>\n",
              "</table>"
            ]
          },
          "metadata": {},
          "execution_count": 27
        }
      ]
    },
    {
      "cell_type": "markdown",
      "source": [
        "# Introducción a SQL\n",
        "<details>\n",
        "  <summary>Cheat Sheet 1</summary>\n",
        "  \n",
        "![Cheat Sheet 1](https://learnsql.com/blog/sql-basics-cheat-sheet/sql-basics-cheat-sheet-a4-page-1.png)\n",
        "</details>\n",
        "\n",
        "<details>\n",
        "  <summary>Cheat Sheet 2</summary>\n",
        "\n",
        "![Cheat Sheet 2](https://learnsql.com/blog/sql-basics-cheat-sheet/sql-basics-cheat-sheet-a4-page-2.png)\n",
        "</details>"
      ],
      "metadata": {
        "id": "pKafN994CRg6"
      }
    },
    {
      "cell_type": "code",
      "source": [],
      "metadata": {
        "id": "Xb1MjMZRBDiq"
      },
      "execution_count": null,
      "outputs": []
    },
    {
      "cell_type": "code",
      "source": [
        "\n"
      ],
      "metadata": {
        "id": "mj1ac4ygBDoY"
      },
      "execution_count": null,
      "outputs": []
    },
    {
      "cell_type": "code",
      "source": [],
      "metadata": {
        "id": "-8vt6XIPBDqd"
      },
      "execution_count": null,
      "outputs": []
    },
    {
      "cell_type": "markdown",
      "source": [
        "- **Importaciones necesarias**:\n",
        "  - `from sqlalchemy import text`: Importa la función `text` para ayudar a formatear las consultas SQL.\n",
        "  - `from sqlalchemy import create_engine`: Importa la función para crear una conexión con la base de datos.\n",
        "  - `import pandas as pd`: Importa la biblioteca pandas, útil para trabajar con datos tabulares.\n"
      ],
      "metadata": {
        "id": "yrmHC5qPumjF"
      }
    },
    {
      "cell_type": "code",
      "source": [
        "from sqlalchemy import text\n",
        "from sqlalchemy import create_engine\n",
        "import pandas as pd"
      ],
      "metadata": {
        "id": "HSmUfXqP9VVg"
      },
      "execution_count": 30,
      "outputs": []
    },
    {
      "cell_type": "markdown",
      "source": [
        "- **Creación de la conexión con la base de datos**:\n",
        "  - `engine = create_engine(\"sqlite:////content/GrinderDB.db\")`: Crea una conexión con la base de datos SQLite llamada \"GrinderDB.db\"."
      ],
      "metadata": {
        "id": "3YUtrKnSup_E"
      }
    },
    {
      "cell_type": "code",
      "source": [
        "engine=create_engine(\"sqlite:////content/GrinderDB.db\")"
      ],
      "metadata": {
        "id": "KmZunMCdmY-e"
      },
      "execution_count": 36,
      "outputs": []
    },
    {
      "cell_type": "markdown",
      "source": [
        "- **Consulta para obtener el nombre de todas las tablas en la base de datos**:\n",
        "  - `query = text('''SELECT name FROM sqlite_master WHERE type = 'table' ''')`\n",
        "\n",
        "- **Ejecución de la consulta y obtención del cursor**:\n",
        "  - Utiliza un contexto de conexión `with engine.connect() as conn:` para asegurarse de que la conexión se cierre automáticamente.\n",
        "  - Ejecuta la consulta anterior con `result = conn.execute(query)`.\n",
        "  - Obtiene un cursor con `cur = result.cursor`."
      ],
      "metadata": {
        "id": "2s9iVbzhuzZ7"
      }
    },
    {
      "cell_type": "code",
      "source": [
        "query = text('''SELECT name FROM sqlite_master WHERE type = 'table' ''')\n",
        "with engine.connect() as conn:\n",
        "    result = conn.execute(query)\n",
        "    cur=result.cursor"
      ],
      "metadata": {
        "id": "kswUIlSQ_n5C"
      },
      "execution_count": 37,
      "outputs": []
    },
    {
      "cell_type": "markdown",
      "source": [
        "- **Ejecuciones de consulta específica y obtención de resultados**:\n",
        "  - `cur.execute('SELECT * FROM bajaj_rex')` y `cur.fetchall()`: Obtiene todos los registros de la tabla \"bajaj_rex\".\n",
        "  - `cur.execute('SELECT * FROM bajaj_rex')` y `cur.fetchone()`: Obtiene solo el primer registro de la tabla \"bajaj_rex\".\n",
        "  - Utiliza un bucle `for` para imprimir cada fila de la tabla \"bajaj_rex\"."
      ],
      "metadata": {
        "id": "FzLI1iXuu25U"
      }
    },
    {
      "cell_type": "code",
      "source": [
        "cur.execute('SELECT * FROM bajaj_rex')\n",
        "cur.fetchall()"
      ],
      "metadata": {
        "id": "peTk1uJ-lpsN"
      },
      "execution_count": null,
      "outputs": []
    },
    {
      "cell_type": "code",
      "source": [
        "cur.execute('SELECT * FROM bajaj_rex')\n",
        "cur.fetchone()"
      ],
      "metadata": {
        "id": "nH3KHrmklrZj"
      },
      "execution_count": null,
      "outputs": []
    },
    {
      "cell_type": "code",
      "source": [
        "for row in cur.execute('SELECT * FROM bajaj_rex;'):\n",
        "    print(row)"
      ],
      "metadata": {
        "id": "RlFanTpxjepP"
      },
      "execution_count": null,
      "outputs": []
    },
    {
      "cell_type": "markdown",
      "source": [
        "- **Cerrar el resultado**:\n",
        "  - `result.close()`: Cierra el objeto de resultado después de su uso.\n"
      ],
      "metadata": {
        "id": "mPb3JCBQvnUE"
      }
    },
    {
      "cell_type": "code",
      "source": [
        "result.close()"
      ],
      "metadata": {
        "id": "p0_O70vckqmd"
      },
      "execution_count": 35,
      "outputs": []
    },
    {
      "cell_type": "markdown",
      "source": [
        "- **Otro método para conectarse y ejecutar consultas**:\n",
        "  - `conn = engine.connect()`: Establece una nueva conexión con la base de datos.\n",
        "  - `query = text('''SELECT * FROM bajaj_rex ''')`: Define una nueva consulta.\n",
        "\n",
        "- **Utilizando pandas para convertir el resultado en un DataFrame**:\n",
        "  - `df = pd.read_sql_query(query, conn)`: Ejecuta la consulta y convierte el resultado en un DataFrame de pandas.\n",
        "  - `df.head()`: Muestra las primeras 5 filas del DataFrame."
      ],
      "metadata": {
        "id": "-HMaTESwvqyw"
      }
    },
    {
      "cell_type": "code",
      "source": [
        "conn = engine.connect()\n",
        "query = text('''SELECT * FROM bajaj_rex ''')\n",
        "\n",
        "df = pd.read_sql_query(query,conn)"
      ],
      "metadata": {
        "id": "7S72YvoWmIuH"
      },
      "execution_count": 40,
      "outputs": []
    },
    {
      "cell_type": "code",
      "source": [
        "df.head()"
      ],
      "metadata": {
        "colab": {
          "base_uri": "https://localhost:8080/",
          "height": 206
        },
        "id": "dCJpYDJvncsl",
        "outputId": "8214dfe3-833d-4eda-a4e8-537e56e55122"
      },
      "execution_count": 41,
      "outputs": [
        {
          "output_type": "execute_result",
          "data": {
            "text/plain": [
              "            Name                                              Title aiconalt  \\\n",
              "0  vinay hinduja                                          Very good      5.0   \n",
              "1         Gaurav                           Worst product from bajaj      1.0   \n",
              "2   Mr. Raj Guru                                     Facing problem      1.0   \n",
              "3   Guru Santosh  Bajaj logo is not convinced whether fack or or...      1.0   \n",
              "4   Baisakhi Roy                    Great Product no.1 best mixture      5.0   \n",
              "\n",
              "                              Review_Date              State  \\\n",
              "0     Reviewed in India on 1 October 2018  Verified Purchase   \n",
              "1  Reviewed in India on 15 September 2018  Verified Purchase   \n",
              "2   Reviewed in India on 18 November 2016  Verified Purchase   \n",
              "3    Reviewed in India on 17 October 2020  Verified Purchase   \n",
              "4        Reviewed in India on 27 May 2018  Verified Purchase   \n",
              "\n",
              "                                              Review asizebase  \n",
              "0  I am writing this review after 3+ years of use...       446  \n",
              "1  Worst quality. The multi purpose jar caught ru...       322  \n",
              "2  Dear sir,\\nI've purchased Bajaj Rex 500-Watt M...       563  \n",
              "3  Why product logo is not same as image shown in...        56  \n",
              "4  I'm statistics with this pocket friendly light...       106  "
            ],
            "text/html": [
              "\n",
              "  <div id=\"df-723b09cf-f6c2-47eb-b040-b5754765d09e\" class=\"colab-df-container\">\n",
              "    <div>\n",
              "<style scoped>\n",
              "    .dataframe tbody tr th:only-of-type {\n",
              "        vertical-align: middle;\n",
              "    }\n",
              "\n",
              "    .dataframe tbody tr th {\n",
              "        vertical-align: top;\n",
              "    }\n",
              "\n",
              "    .dataframe thead th {\n",
              "        text-align: right;\n",
              "    }\n",
              "</style>\n",
              "<table border=\"1\" class=\"dataframe\">\n",
              "  <thead>\n",
              "    <tr style=\"text-align: right;\">\n",
              "      <th></th>\n",
              "      <th>Name</th>\n",
              "      <th>Title</th>\n",
              "      <th>aiconalt</th>\n",
              "      <th>Review_Date</th>\n",
              "      <th>State</th>\n",
              "      <th>Review</th>\n",
              "      <th>asizebase</th>\n",
              "    </tr>\n",
              "  </thead>\n",
              "  <tbody>\n",
              "    <tr>\n",
              "      <th>0</th>\n",
              "      <td>vinay hinduja</td>\n",
              "      <td>Very good</td>\n",
              "      <td>5.0</td>\n",
              "      <td>Reviewed in India on 1 October 2018</td>\n",
              "      <td>Verified Purchase</td>\n",
              "      <td>I am writing this review after 3+ years of use...</td>\n",
              "      <td>446</td>\n",
              "    </tr>\n",
              "    <tr>\n",
              "      <th>1</th>\n",
              "      <td>Gaurav</td>\n",
              "      <td>Worst product from bajaj</td>\n",
              "      <td>1.0</td>\n",
              "      <td>Reviewed in India on 15 September 2018</td>\n",
              "      <td>Verified Purchase</td>\n",
              "      <td>Worst quality. The multi purpose jar caught ru...</td>\n",
              "      <td>322</td>\n",
              "    </tr>\n",
              "    <tr>\n",
              "      <th>2</th>\n",
              "      <td>Mr. Raj Guru</td>\n",
              "      <td>Facing problem</td>\n",
              "      <td>1.0</td>\n",
              "      <td>Reviewed in India on 18 November 2016</td>\n",
              "      <td>Verified Purchase</td>\n",
              "      <td>Dear sir,\\nI've purchased Bajaj Rex 500-Watt M...</td>\n",
              "      <td>563</td>\n",
              "    </tr>\n",
              "    <tr>\n",
              "      <th>3</th>\n",
              "      <td>Guru Santosh</td>\n",
              "      <td>Bajaj logo is not convinced whether fack or or...</td>\n",
              "      <td>1.0</td>\n",
              "      <td>Reviewed in India on 17 October 2020</td>\n",
              "      <td>Verified Purchase</td>\n",
              "      <td>Why product logo is not same as image shown in...</td>\n",
              "      <td>56</td>\n",
              "    </tr>\n",
              "    <tr>\n",
              "      <th>4</th>\n",
              "      <td>Baisakhi Roy</td>\n",
              "      <td>Great Product no.1 best mixture</td>\n",
              "      <td>5.0</td>\n",
              "      <td>Reviewed in India on 27 May 2018</td>\n",
              "      <td>Verified Purchase</td>\n",
              "      <td>I'm statistics with this pocket friendly light...</td>\n",
              "      <td>106</td>\n",
              "    </tr>\n",
              "  </tbody>\n",
              "</table>\n",
              "</div>\n",
              "    <div class=\"colab-df-buttons\">\n",
              "\n",
              "  <div class=\"colab-df-container\">\n",
              "    <button class=\"colab-df-convert\" onclick=\"convertToInteractive('df-723b09cf-f6c2-47eb-b040-b5754765d09e')\"\n",
              "            title=\"Convert this dataframe to an interactive table.\"\n",
              "            style=\"display:none;\">\n",
              "\n",
              "  <svg xmlns=\"http://www.w3.org/2000/svg\" height=\"24px\" viewBox=\"0 -960 960 960\">\n",
              "    <path d=\"M120-120v-720h720v720H120Zm60-500h600v-160H180v160Zm220 220h160v-160H400v160Zm0 220h160v-160H400v160ZM180-400h160v-160H180v160Zm440 0h160v-160H620v160ZM180-180h160v-160H180v160Zm440 0h160v-160H620v160Z\"/>\n",
              "  </svg>\n",
              "    </button>\n",
              "\n",
              "  <style>\n",
              "    .colab-df-container {\n",
              "      display:flex;\n",
              "      gap: 12px;\n",
              "    }\n",
              "\n",
              "    .colab-df-convert {\n",
              "      background-color: #E8F0FE;\n",
              "      border: none;\n",
              "      border-radius: 50%;\n",
              "      cursor: pointer;\n",
              "      display: none;\n",
              "      fill: #1967D2;\n",
              "      height: 32px;\n",
              "      padding: 0 0 0 0;\n",
              "      width: 32px;\n",
              "    }\n",
              "\n",
              "    .colab-df-convert:hover {\n",
              "      background-color: #E2EBFA;\n",
              "      box-shadow: 0px 1px 2px rgba(60, 64, 67, 0.3), 0px 1px 3px 1px rgba(60, 64, 67, 0.15);\n",
              "      fill: #174EA6;\n",
              "    }\n",
              "\n",
              "    .colab-df-buttons div {\n",
              "      margin-bottom: 4px;\n",
              "    }\n",
              "\n",
              "    [theme=dark] .colab-df-convert {\n",
              "      background-color: #3B4455;\n",
              "      fill: #D2E3FC;\n",
              "    }\n",
              "\n",
              "    [theme=dark] .colab-df-convert:hover {\n",
              "      background-color: #434B5C;\n",
              "      box-shadow: 0px 1px 3px 1px rgba(0, 0, 0, 0.15);\n",
              "      filter: drop-shadow(0px 1px 2px rgba(0, 0, 0, 0.3));\n",
              "      fill: #FFFFFF;\n",
              "    }\n",
              "  </style>\n",
              "\n",
              "    <script>\n",
              "      const buttonEl =\n",
              "        document.querySelector('#df-723b09cf-f6c2-47eb-b040-b5754765d09e button.colab-df-convert');\n",
              "      buttonEl.style.display =\n",
              "        google.colab.kernel.accessAllowed ? 'block' : 'none';\n",
              "\n",
              "      async function convertToInteractive(key) {\n",
              "        const element = document.querySelector('#df-723b09cf-f6c2-47eb-b040-b5754765d09e');\n",
              "        const dataTable =\n",
              "          await google.colab.kernel.invokeFunction('convertToInteractive',\n",
              "                                                    [key], {});\n",
              "        if (!dataTable) return;\n",
              "\n",
              "        const docLinkHtml = 'Like what you see? Visit the ' +\n",
              "          '<a target=\"_blank\" href=https://colab.research.google.com/notebooks/data_table.ipynb>data table notebook</a>'\n",
              "          + ' to learn more about interactive tables.';\n",
              "        element.innerHTML = '';\n",
              "        dataTable['output_type'] = 'display_data';\n",
              "        await google.colab.output.renderOutput(dataTable, element);\n",
              "        const docLink = document.createElement('div');\n",
              "        docLink.innerHTML = docLinkHtml;\n",
              "        element.appendChild(docLink);\n",
              "      }\n",
              "    </script>\n",
              "  </div>\n",
              "\n",
              "\n",
              "<div id=\"df-daf0f9ab-1347-4eb1-a1a6-dfd52e76ae7c\">\n",
              "  <button class=\"colab-df-quickchart\" onclick=\"quickchart('df-daf0f9ab-1347-4eb1-a1a6-dfd52e76ae7c')\"\n",
              "            title=\"Suggest charts.\"\n",
              "            style=\"display:none;\">\n",
              "\n",
              "<svg xmlns=\"http://www.w3.org/2000/svg\" height=\"24px\"viewBox=\"0 0 24 24\"\n",
              "     width=\"24px\">\n",
              "    <g>\n",
              "        <path d=\"M19 3H5c-1.1 0-2 .9-2 2v14c0 1.1.9 2 2 2h14c1.1 0 2-.9 2-2V5c0-1.1-.9-2-2-2zM9 17H7v-7h2v7zm4 0h-2V7h2v10zm4 0h-2v-4h2v4z\"/>\n",
              "    </g>\n",
              "</svg>\n",
              "  </button>\n",
              "\n",
              "<style>\n",
              "  .colab-df-quickchart {\n",
              "    background-color: #E8F0FE;\n",
              "    border: none;\n",
              "    border-radius: 50%;\n",
              "    cursor: pointer;\n",
              "    display: none;\n",
              "    fill: #1967D2;\n",
              "    height: 32px;\n",
              "    padding: 0 0 0 0;\n",
              "    width: 32px;\n",
              "  }\n",
              "\n",
              "  .colab-df-quickchart:hover {\n",
              "    background-color: #E2EBFA;\n",
              "    box-shadow: 0px 1px 2px rgba(60, 64, 67, 0.3), 0px 1px 3px 1px rgba(60, 64, 67, 0.15);\n",
              "    fill: #174EA6;\n",
              "  }\n",
              "\n",
              "  [theme=dark] .colab-df-quickchart {\n",
              "    background-color: #3B4455;\n",
              "    fill: #D2E3FC;\n",
              "  }\n",
              "\n",
              "  [theme=dark] .colab-df-quickchart:hover {\n",
              "    background-color: #434B5C;\n",
              "    box-shadow: 0px 1px 3px 1px rgba(0, 0, 0, 0.15);\n",
              "    filter: drop-shadow(0px 1px 2px rgba(0, 0, 0, 0.3));\n",
              "    fill: #FFFFFF;\n",
              "  }\n",
              "</style>\n",
              "\n",
              "  <script>\n",
              "    async function quickchart(key) {\n",
              "      const charts = await google.colab.kernel.invokeFunction(\n",
              "          'suggestCharts', [key], {});\n",
              "    }\n",
              "    (() => {\n",
              "      let quickchartButtonEl =\n",
              "        document.querySelector('#df-daf0f9ab-1347-4eb1-a1a6-dfd52e76ae7c button');\n",
              "      quickchartButtonEl.style.display =\n",
              "        google.colab.kernel.accessAllowed ? 'block' : 'none';\n",
              "    })();\n",
              "  </script>\n",
              "</div>\n",
              "    </div>\n",
              "  </div>\n"
            ]
          },
          "metadata": {},
          "execution_count": 41
        }
      ]
    },
    {
      "cell_type": "code",
      "source": [
        "conn.close()"
      ],
      "metadata": {
        "id": "xGNKIP2dncfD"
      },
      "execution_count": 47,
      "outputs": []
    },
    {
      "cell_type": "code",
      "source": [],
      "metadata": {
        "colab": {
          "base_uri": "https://localhost:8080/"
        },
        "id": "j04-QESgncXB",
        "outputId": "c6ae4dae-ec70-4d19-d34f-8b0a5c03eb24"
      },
      "execution_count": 56,
      "outputs": [
        {
          "output_type": "execute_result",
          "data": {
            "text/plain": [
              "(8697, 8)"
            ]
          },
          "metadata": {},
          "execution_count": 56
        }
      ]
    },
    {
      "cell_type": "code",
      "source": [],
      "metadata": {
        "id": "m6FrFe49ncN3"
      },
      "execution_count": null,
      "outputs": []
    },
    {
      "cell_type": "markdown",
      "source": [
        "# Pipe de procesamiento"
      ],
      "metadata": {
        "id": "u6PGF1EkeyE0"
      }
    },
    {
      "cell_type": "code",
      "source": [
        "# Cargando librerias\n",
        "#!pip install python-dotenv\n",
        "#!pip install openai\n",
        "!pip install pandas-profiling"
      ],
      "metadata": {
        "id": "PhcDyTZFe3ES"
      },
      "execution_count": null,
      "outputs": []
    },
    {
      "cell_type": "code",
      "source": [],
      "metadata": {
        "id": "u_2s14zrs8J9"
      },
      "execution_count": null,
      "outputs": []
    },
    {
      "cell_type": "markdown",
      "source": [
        "## Caracterización\n",
        "\n",
        "- Pandas profiling es un módulo open source de Python.\n",
        "- Permite realizar análisis exploratorio de datos de manera rápida.\n",
        "- Se requieren solo unas pocas líneas de código para su ejecución.\n",
        "- Genera informes interactivos en formato web.\n",
        "- Los informes pueden ser presentados a cualquier persona, independientemente de si sabe programar o no.\n",
        "- La herramienta facilita la visualización y comprensión de la distribución de cada variable.\n",
        "- Proporciona un informe detallado con información fácilmente visible.\n",
        "\n",
        "[Pandas profiling](https://github.com/ydataai/ydata-profiling)"
      ],
      "metadata": {
        "id": "29ClAS06ozoJ"
      }
    },
    {
      "cell_type": "markdown",
      "source": [
        "- **Caracterización de Datos con Pandas y pandas_profiling**:\n",
        "\n",
        "- **Dimensiones del DataFrame**:\n",
        "  - `df.shape`: Muestra el número de filas y columnas en el DataFrame. Es útil para entender la magnitud y estructura del conjunto de datos con el que estamos trabajando.\n",
        "\n",
        "- **Estadísticas descriptivas**:\n",
        "  - `df.describe()`: Proporciona estadísticas descriptivas del DataFrame. Estas estadísticas incluyen medidas como el promedio, mediana, mínimo, máximo, y percentiles, permitiéndonos tener una visión rápida del comportamiento y distribución de cada variable numérica.\n",
        "\n",
        "- **Importaciones para Caracterización Avanzada**:\n",
        "  - `from pandas_profiling import ProfileReport`: Importa la herramienta `ProfileReport` que genera informes detallados sobre el conjunto de datos.\n",
        "  - `from pandas_profiling.utils.cache import cache_file`: Importa la utilidad para cachear archivos. Esto puede ser útil para manejar informes grandes y optimizar la generación de los mismos.\n",
        "\n",
        "- **Generación del Informe**:\n",
        "  - `prof = ProfileReport(df)`: Crea un informe detallado del DataFrame utilizando `pandas_profiling`.\n",
        "  - `prof.to_file(output_file='output.html')`: Guarda el informe en un archivo HTML llamado \"output.html\". Este informe es interactivo y proporciona una visión profunda de cada variable, mostrando distribuciones, correlaciones, valores faltantes, y mucho más.\n",
        "\n",
        "- **Generación de Informe Alternativo**:\n",
        "  - `report = df.profile_report(sort='ascending', html={'style':{'full_width':True}})`: Genera un informe del DataFrame con algunas opciones personalizadas. En este caso, se está ordenando el informe en orden ascendente y se adapta al ancho completo de la ventana del navegador.\n",
        "  - `report`: Visualiza el informe generado en la celda anterior directamente en el entorno de notebook o Jupyter.\n",
        "\n"
      ],
      "metadata": {
        "id": "c5mdErTIv3_y"
      }
    },
    {
      "cell_type": "code",
      "source": [],
      "metadata": {
        "id": "L199BBc3v3jC"
      },
      "execution_count": null,
      "outputs": []
    },
    {
      "cell_type": "code",
      "source": [
        "engine=create_engine(\"sqlite:////content/GrinderDB.db\")\n",
        "conn = engine.connect()\n",
        "query = text('''SELECT * FROM GrinderFullReview''')\n",
        "\n",
        "df = pd.read_sql_query(query,conn)\n",
        "conn.close()"
      ],
      "metadata": {
        "id": "ZRlJ9XoZsBry"
      },
      "execution_count": 52,
      "outputs": []
    },
    {
      "cell_type": "code",
      "source": [
        "df.head()"
      ],
      "metadata": {
        "colab": {
          "base_uri": "https://localhost:8080/",
          "height": 206
        },
        "id": "xb-1cN_gsQyR",
        "outputId": "3f841353-158a-481f-fc15-40e22d4caa6a"
      },
      "execution_count": 53,
      "outputs": [
        {
          "output_type": "execute_result",
          "data": {
            "text/plain": [
              "  Name Title aiconalt Review_Date State Review asizebase    Product_Name\n",
              "0                                                              Bosch_Pro\n",
              "1                                                           Philips_Viva\n",
              "2                                                         Sujata_Dynamix\n",
              "3                                                              bajaj_rex\n",
              "4                                                         philips_hl7756"
            ],
            "text/html": [
              "\n",
              "  <div id=\"df-5e847f3c-2663-400a-ac55-5c170a0093bb\" class=\"colab-df-container\">\n",
              "    <div>\n",
              "<style scoped>\n",
              "    .dataframe tbody tr th:only-of-type {\n",
              "        vertical-align: middle;\n",
              "    }\n",
              "\n",
              "    .dataframe tbody tr th {\n",
              "        vertical-align: top;\n",
              "    }\n",
              "\n",
              "    .dataframe thead th {\n",
              "        text-align: right;\n",
              "    }\n",
              "</style>\n",
              "<table border=\"1\" class=\"dataframe\">\n",
              "  <thead>\n",
              "    <tr style=\"text-align: right;\">\n",
              "      <th></th>\n",
              "      <th>Name</th>\n",
              "      <th>Title</th>\n",
              "      <th>aiconalt</th>\n",
              "      <th>Review_Date</th>\n",
              "      <th>State</th>\n",
              "      <th>Review</th>\n",
              "      <th>asizebase</th>\n",
              "      <th>Product_Name</th>\n",
              "    </tr>\n",
              "  </thead>\n",
              "  <tbody>\n",
              "    <tr>\n",
              "      <th>0</th>\n",
              "      <td></td>\n",
              "      <td></td>\n",
              "      <td></td>\n",
              "      <td></td>\n",
              "      <td></td>\n",
              "      <td></td>\n",
              "      <td></td>\n",
              "      <td>Bosch_Pro</td>\n",
              "    </tr>\n",
              "    <tr>\n",
              "      <th>1</th>\n",
              "      <td></td>\n",
              "      <td></td>\n",
              "      <td></td>\n",
              "      <td></td>\n",
              "      <td></td>\n",
              "      <td></td>\n",
              "      <td></td>\n",
              "      <td>Philips_Viva</td>\n",
              "    </tr>\n",
              "    <tr>\n",
              "      <th>2</th>\n",
              "      <td></td>\n",
              "      <td></td>\n",
              "      <td></td>\n",
              "      <td></td>\n",
              "      <td></td>\n",
              "      <td></td>\n",
              "      <td></td>\n",
              "      <td>Sujata_Dynamix</td>\n",
              "    </tr>\n",
              "    <tr>\n",
              "      <th>3</th>\n",
              "      <td></td>\n",
              "      <td></td>\n",
              "      <td></td>\n",
              "      <td></td>\n",
              "      <td></td>\n",
              "      <td></td>\n",
              "      <td></td>\n",
              "      <td>bajaj_rex</td>\n",
              "    </tr>\n",
              "    <tr>\n",
              "      <th>4</th>\n",
              "      <td></td>\n",
              "      <td></td>\n",
              "      <td></td>\n",
              "      <td></td>\n",
              "      <td></td>\n",
              "      <td></td>\n",
              "      <td></td>\n",
              "      <td>philips_hl7756</td>\n",
              "    </tr>\n",
              "  </tbody>\n",
              "</table>\n",
              "</div>\n",
              "    <div class=\"colab-df-buttons\">\n",
              "\n",
              "  <div class=\"colab-df-container\">\n",
              "    <button class=\"colab-df-convert\" onclick=\"convertToInteractive('df-5e847f3c-2663-400a-ac55-5c170a0093bb')\"\n",
              "            title=\"Convert this dataframe to an interactive table.\"\n",
              "            style=\"display:none;\">\n",
              "\n",
              "  <svg xmlns=\"http://www.w3.org/2000/svg\" height=\"24px\" viewBox=\"0 -960 960 960\">\n",
              "    <path d=\"M120-120v-720h720v720H120Zm60-500h600v-160H180v160Zm220 220h160v-160H400v160Zm0 220h160v-160H400v160ZM180-400h160v-160H180v160Zm440 0h160v-160H620v160ZM180-180h160v-160H180v160Zm440 0h160v-160H620v160Z\"/>\n",
              "  </svg>\n",
              "    </button>\n",
              "\n",
              "  <style>\n",
              "    .colab-df-container {\n",
              "      display:flex;\n",
              "      gap: 12px;\n",
              "    }\n",
              "\n",
              "    .colab-df-convert {\n",
              "      background-color: #E8F0FE;\n",
              "      border: none;\n",
              "      border-radius: 50%;\n",
              "      cursor: pointer;\n",
              "      display: none;\n",
              "      fill: #1967D2;\n",
              "      height: 32px;\n",
              "      padding: 0 0 0 0;\n",
              "      width: 32px;\n",
              "    }\n",
              "\n",
              "    .colab-df-convert:hover {\n",
              "      background-color: #E2EBFA;\n",
              "      box-shadow: 0px 1px 2px rgba(60, 64, 67, 0.3), 0px 1px 3px 1px rgba(60, 64, 67, 0.15);\n",
              "      fill: #174EA6;\n",
              "    }\n",
              "\n",
              "    .colab-df-buttons div {\n",
              "      margin-bottom: 4px;\n",
              "    }\n",
              "\n",
              "    [theme=dark] .colab-df-convert {\n",
              "      background-color: #3B4455;\n",
              "      fill: #D2E3FC;\n",
              "    }\n",
              "\n",
              "    [theme=dark] .colab-df-convert:hover {\n",
              "      background-color: #434B5C;\n",
              "      box-shadow: 0px 1px 3px 1px rgba(0, 0, 0, 0.15);\n",
              "      filter: drop-shadow(0px 1px 2px rgba(0, 0, 0, 0.3));\n",
              "      fill: #FFFFFF;\n",
              "    }\n",
              "  </style>\n",
              "\n",
              "    <script>\n",
              "      const buttonEl =\n",
              "        document.querySelector('#df-5e847f3c-2663-400a-ac55-5c170a0093bb button.colab-df-convert');\n",
              "      buttonEl.style.display =\n",
              "        google.colab.kernel.accessAllowed ? 'block' : 'none';\n",
              "\n",
              "      async function convertToInteractive(key) {\n",
              "        const element = document.querySelector('#df-5e847f3c-2663-400a-ac55-5c170a0093bb');\n",
              "        const dataTable =\n",
              "          await google.colab.kernel.invokeFunction('convertToInteractive',\n",
              "                                                    [key], {});\n",
              "        if (!dataTable) return;\n",
              "\n",
              "        const docLinkHtml = 'Like what you see? Visit the ' +\n",
              "          '<a target=\"_blank\" href=https://colab.research.google.com/notebooks/data_table.ipynb>data table notebook</a>'\n",
              "          + ' to learn more about interactive tables.';\n",
              "        element.innerHTML = '';\n",
              "        dataTable['output_type'] = 'display_data';\n",
              "        await google.colab.output.renderOutput(dataTable, element);\n",
              "        const docLink = document.createElement('div');\n",
              "        docLink.innerHTML = docLinkHtml;\n",
              "        element.appendChild(docLink);\n",
              "      }\n",
              "    </script>\n",
              "  </div>\n",
              "\n",
              "\n",
              "<div id=\"df-a70470f9-58ea-49f8-9220-8617e6ef043f\">\n",
              "  <button class=\"colab-df-quickchart\" onclick=\"quickchart('df-a70470f9-58ea-49f8-9220-8617e6ef043f')\"\n",
              "            title=\"Suggest charts.\"\n",
              "            style=\"display:none;\">\n",
              "\n",
              "<svg xmlns=\"http://www.w3.org/2000/svg\" height=\"24px\"viewBox=\"0 0 24 24\"\n",
              "     width=\"24px\">\n",
              "    <g>\n",
              "        <path d=\"M19 3H5c-1.1 0-2 .9-2 2v14c0 1.1.9 2 2 2h14c1.1 0 2-.9 2-2V5c0-1.1-.9-2-2-2zM9 17H7v-7h2v7zm4 0h-2V7h2v10zm4 0h-2v-4h2v4z\"/>\n",
              "    </g>\n",
              "</svg>\n",
              "  </button>\n",
              "\n",
              "<style>\n",
              "  .colab-df-quickchart {\n",
              "    background-color: #E8F0FE;\n",
              "    border: none;\n",
              "    border-radius: 50%;\n",
              "    cursor: pointer;\n",
              "    display: none;\n",
              "    fill: #1967D2;\n",
              "    height: 32px;\n",
              "    padding: 0 0 0 0;\n",
              "    width: 32px;\n",
              "  }\n",
              "\n",
              "  .colab-df-quickchart:hover {\n",
              "    background-color: #E2EBFA;\n",
              "    box-shadow: 0px 1px 2px rgba(60, 64, 67, 0.3), 0px 1px 3px 1px rgba(60, 64, 67, 0.15);\n",
              "    fill: #174EA6;\n",
              "  }\n",
              "\n",
              "  [theme=dark] .colab-df-quickchart {\n",
              "    background-color: #3B4455;\n",
              "    fill: #D2E3FC;\n",
              "  }\n",
              "\n",
              "  [theme=dark] .colab-df-quickchart:hover {\n",
              "    background-color: #434B5C;\n",
              "    box-shadow: 0px 1px 3px 1px rgba(0, 0, 0, 0.15);\n",
              "    filter: drop-shadow(0px 1px 2px rgba(0, 0, 0, 0.3));\n",
              "    fill: #FFFFFF;\n",
              "  }\n",
              "</style>\n",
              "\n",
              "  <script>\n",
              "    async function quickchart(key) {\n",
              "      const charts = await google.colab.kernel.invokeFunction(\n",
              "          'suggestCharts', [key], {});\n",
              "    }\n",
              "    (() => {\n",
              "      let quickchartButtonEl =\n",
              "        document.querySelector('#df-a70470f9-58ea-49f8-9220-8617e6ef043f button');\n",
              "      quickchartButtonEl.style.display =\n",
              "        google.colab.kernel.accessAllowed ? 'block' : 'none';\n",
              "    })();\n",
              "  </script>\n",
              "</div>\n",
              "    </div>\n",
              "  </div>\n"
            ]
          },
          "metadata": {},
          "execution_count": 53
        }
      ]
    },
    {
      "cell_type": "code",
      "source": [
        "df.shape"
      ],
      "metadata": {
        "id": "HTOx0cBGtL24"
      },
      "execution_count": null,
      "outputs": []
    },
    {
      "cell_type": "code",
      "source": [
        "df.describe()"
      ],
      "metadata": {
        "id": "orxXFt_otMzi"
      },
      "execution_count": null,
      "outputs": []
    },
    {
      "cell_type": "code",
      "source": [
        "from pandas_profiling import ProfileReport\n",
        "from pandas_profiling.utils.cache import cache_file\n",
        "\n",
        "prof = ProfileReport(df)\n",
        "prof.to_file(output_file='output.html')\n"
      ],
      "metadata": {
        "id": "Ka-xQ3JiozDq"
      },
      "execution_count": null,
      "outputs": []
    },
    {
      "cell_type": "code",
      "source": [
        "report = df.profile_report(sort='ascending', html={'style':{'full_width':True}})"
      ],
      "metadata": {
        "id": "uJzAFTFItaYS"
      },
      "execution_count": 60,
      "outputs": []
    },
    {
      "cell_type": "code",
      "source": [
        "report"
      ],
      "metadata": {
        "id": "xBkDjFXotuIu"
      },
      "execution_count": null,
      "outputs": []
    },
    {
      "cell_type": "markdown",
      "source": [
        "## Limpieza de datos"
      ],
      "metadata": {
        "id": "8Gb6XW6_oh7D"
      }
    },
    {
      "cell_type": "markdown",
      "source": [
        "## Agregar emociones"
      ],
      "metadata": {
        "id": "iH7leBbjol0R"
      }
    },
    {
      "cell_type": "markdown",
      "source": [
        "## Extraer información"
      ],
      "metadata": {
        "id": "xjmhuoWforps"
      }
    },
    {
      "cell_type": "markdown",
      "source": [
        "## Presentación"
      ],
      "metadata": {
        "id": "93ecMXbNovNj"
      }
    },
    {
      "cell_type": "code",
      "source": [],
      "metadata": {
        "id": "-mtbLhu7ohsN"
      },
      "execution_count": null,
      "outputs": []
    },
    {
      "cell_type": "code",
      "source": [
        "import os\n",
        "import openai\n",
        "\n",
        "from dotenv import load_dotenv, find_dotenv\n",
        "_ = load_dotenv(find_dotenv()) # read local .env file\n",
        "openai.api_key = os.environ['OPENAI_API_KEY']"
      ],
      "metadata": {
        "id": "mFHxYDvBgC-1"
      },
      "execution_count": 43,
      "outputs": []
    },
    {
      "cell_type": "code",
      "source": [
        "# account for deprecation of LLM model\n",
        "import datetime\n",
        "# Get the current date\n",
        "current_date = datetime.datetime.now().date()\n",
        "\n",
        "# Define the date after which the model should be set to \"gpt-3.5-turbo\"\n",
        "target_date = datetime.date(2024, 6, 12)\n",
        "\n",
        "# Set the model variable based on the current date\n",
        "if current_date > target_date:\n",
        "    llm_model = \"gpt-3.5-turbo\"\n",
        "else:\n",
        "    llm_model = \"gpt-3.5-turbo-0301\""
      ],
      "metadata": {
        "id": "rFm2A2SggQmx"
      },
      "execution_count": 44,
      "outputs": []
    },
    {
      "cell_type": "code",
      "source": [],
      "metadata": {
        "id": "jYJHaNlAgV-y"
      },
      "execution_count": null,
      "outputs": []
    }
  ]
}